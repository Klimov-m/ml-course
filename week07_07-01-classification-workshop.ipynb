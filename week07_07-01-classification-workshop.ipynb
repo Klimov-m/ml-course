{
 "cells": [
  {
   "cell_type": "markdown",
   "metadata": {},
   "source": [
    "# Workshop 7. Классификация.\n",
    "\n",
    "1. Скачайте этот ноутбук к себе.\n",
    "2. Заполните пропущенные ячейки, отвечая на заданные вопросы. Там должен быть код! (если не сказано обратное)\n",
    "3. Сохраните результат в своём гитхаб репозитории.\n",
    "\n",
    "### Полезная литература\n",
    "\n",
    "- [ODS - классификация](https://habrahabr.ru/company/ods/blog/322534/)\n",
    "- [Коллаборативная фильтрация - рекомендательная система](https://ru.wikipedia.org/wiki/%D0%9A%D0%BE%D0%BB%D0%BB%D0%B0%D0%B1%D0%BE%D1%80%D0%B0%D1%82%D0%B8%D0%B2%D0%BD%D0%B0%D1%8F_%D1%84%D0%B8%D0%BB%D1%8C%D1%82%D1%80%D0%B0%D1%86%D0%B8%D1%8F)\n",
    "- [Метрики расстояний - косинусная, минковского, проклятье размерности ](http://www.machinelearning.ru/wiki/images/9/9a/Sem1_knn.pdf)\n",
    "- [Offtop: метрики качества рекомендаьельных систем](https://habrahabr.ru/company/dca/blog/281066/)"
   ]
  },
  {
   "cell_type": "markdown",
   "metadata": {},
   "source": [
    "## kNN - ближайшие соседи\n",
    "\n",
    "Рассмотрим задачу из соревнования [Amazon Employee Access Challenge](https://www.kaggle.com/c/amazon-employee-access-challenge).\n",
    "\n",
    "В данной задаче предлагается предсказать, будет ли одобрен запрос сотрудника на получение доступа к тому или иному ресурсу. Все признаки являются категориальными."
   ]
  },
  {
   "cell_type": "code",
   "execution_count": 1,
   "metadata": {},
   "outputs": [],
   "source": [
    "%matplotlib inline\n",
    "import pandas as pd\n",
    "import numpy as np\n",
    "from matplotlib import pyplot as plt\n",
    "import seaborn as sns\n",
    "from sklearn.model_selection import train_test_split, KFold, cross_val_score\n",
    "from sklearn.neighbors import KNeighborsClassifier\n",
    "from sklearn.metrics import classification_report, confusion_matrix\n",
    "from sklearn.preprocessing import scale"
   ]
  },
  {
   "cell_type": "code",
   "execution_count": 2,
   "metadata": {},
   "outputs": [
    {
     "data": {
      "text/html": [
       "<div>\n",
       "<style scoped>\n",
       "    .dataframe tbody tr th:only-of-type {\n",
       "        vertical-align: middle;\n",
       "    }\n",
       "\n",
       "    .dataframe tbody tr th {\n",
       "        vertical-align: top;\n",
       "    }\n",
       "\n",
       "    .dataframe thead th {\n",
       "        text-align: right;\n",
       "    }\n",
       "</style>\n",
       "<table border=\"1\" class=\"dataframe\">\n",
       "  <thead>\n",
       "    <tr style=\"text-align: right;\">\n",
       "      <th></th>\n",
       "      <th>ACTION</th>\n",
       "      <th>RESOURCE</th>\n",
       "      <th>MGR_ID</th>\n",
       "      <th>ROLE_ROLLUP_1</th>\n",
       "      <th>ROLE_ROLLUP_2</th>\n",
       "      <th>ROLE_DEPTNAME</th>\n",
       "      <th>ROLE_TITLE</th>\n",
       "      <th>ROLE_FAMILY_DESC</th>\n",
       "      <th>ROLE_FAMILY</th>\n",
       "      <th>ROLE_CODE</th>\n",
       "    </tr>\n",
       "  </thead>\n",
       "  <tbody>\n",
       "    <tr>\n",
       "      <th>0</th>\n",
       "      <td>1</td>\n",
       "      <td>39353</td>\n",
       "      <td>85475</td>\n",
       "      <td>117961</td>\n",
       "      <td>118300</td>\n",
       "      <td>123472</td>\n",
       "      <td>117905</td>\n",
       "      <td>117906</td>\n",
       "      <td>290919</td>\n",
       "      <td>117908</td>\n",
       "    </tr>\n",
       "    <tr>\n",
       "      <th>1</th>\n",
       "      <td>1</td>\n",
       "      <td>17183</td>\n",
       "      <td>1540</td>\n",
       "      <td>117961</td>\n",
       "      <td>118343</td>\n",
       "      <td>123125</td>\n",
       "      <td>118536</td>\n",
       "      <td>118536</td>\n",
       "      <td>308574</td>\n",
       "      <td>118539</td>\n",
       "    </tr>\n",
       "    <tr>\n",
       "      <th>2</th>\n",
       "      <td>1</td>\n",
       "      <td>36724</td>\n",
       "      <td>14457</td>\n",
       "      <td>118219</td>\n",
       "      <td>118220</td>\n",
       "      <td>117884</td>\n",
       "      <td>117879</td>\n",
       "      <td>267952</td>\n",
       "      <td>19721</td>\n",
       "      <td>117880</td>\n",
       "    </tr>\n",
       "    <tr>\n",
       "      <th>3</th>\n",
       "      <td>1</td>\n",
       "      <td>36135</td>\n",
       "      <td>5396</td>\n",
       "      <td>117961</td>\n",
       "      <td>118343</td>\n",
       "      <td>119993</td>\n",
       "      <td>118321</td>\n",
       "      <td>240983</td>\n",
       "      <td>290919</td>\n",
       "      <td>118322</td>\n",
       "    </tr>\n",
       "    <tr>\n",
       "      <th>4</th>\n",
       "      <td>1</td>\n",
       "      <td>42680</td>\n",
       "      <td>5905</td>\n",
       "      <td>117929</td>\n",
       "      <td>117930</td>\n",
       "      <td>119569</td>\n",
       "      <td>119323</td>\n",
       "      <td>123932</td>\n",
       "      <td>19793</td>\n",
       "      <td>119325</td>\n",
       "    </tr>\n",
       "  </tbody>\n",
       "</table>\n",
       "</div>"
      ],
      "text/plain": [
       "   ACTION  RESOURCE  MGR_ID  ROLE_ROLLUP_1  ROLE_ROLLUP_2  ROLE_DEPTNAME  \\\n",
       "0       1     39353   85475         117961         118300         123472   \n",
       "1       1     17183    1540         117961         118343         123125   \n",
       "2       1     36724   14457         118219         118220         117884   \n",
       "3       1     36135    5396         117961         118343         119993   \n",
       "4       1     42680    5905         117929         117930         119569   \n",
       "\n",
       "   ROLE_TITLE  ROLE_FAMILY_DESC  ROLE_FAMILY  ROLE_CODE  \n",
       "0      117905            117906       290919     117908  \n",
       "1      118536            118536       308574     118539  \n",
       "2      117879            267952        19721     117880  \n",
       "3      118321            240983       290919     118322  \n",
       "4      119323            123932        19793     119325  "
      ]
     },
     "execution_count": 2,
     "metadata": {},
     "output_type": "execute_result"
    }
   ],
   "source": [
    "df = pd.read_csv('./data/amazon.csv.gz')\n",
    "df.head()\n",
    "# ACTION - это целевой признак"
   ]
  },
  {
   "cell_type": "markdown",
   "metadata": {},
   "source": [
    "Обратим внимание, что выборка не сбалансированная. В качестве метрики качества будем использовть [f1-score](https://en.wikipedia.org/wiki/F1_score). \n",
    "$$F_1 = 2 \\cdot \\frac{\\mathrm{precision} \\cdot \\mathrm{recall}}{\\mathrm{precision} + \\mathrm{recall}}$$\n",
    "\n",
    "$$precision = \\frac{TP}{TP+FP}$$\n",
    "\n",
    "$$recall = \\frac{TP}{TP+FN}$$"
   ]
  },
  {
   "cell_type": "code",
   "execution_count": 3,
   "metadata": {},
   "outputs": [
    {
     "name": "stdout",
     "output_type": "stream",
     "text": [
      "0.9421099209618847\n"
     ]
    },
    {
     "data": {
      "text/plain": [
       "<matplotlib.axes._subplots.AxesSubplot at 0x7f822467c048>"
      ]
     },
     "execution_count": 3,
     "metadata": {},
     "output_type": "execute_result"
    },
    {
     "data": {
      "image/png": "[encoded data removed]",
      "text/plain": [
       "<Figure size 432x288 with 1 Axes>"
      ]
     },
     "metadata": {},
     "output_type": "display_data"
    }
   ],
   "source": [
    "print(df['ACTION'].mean())\n",
    "sns.countplot('ACTION', data=df)"
   ]
  },
  {
   "cell_type": "code",
   "execution_count": 4,
   "metadata": {},
   "outputs": [
    {
     "name": "stdout",
     "output_type": "stream",
     "text": [
      "ACTION 2\n",
      "RESOURCE 7518\n",
      "MGR_ID 4243\n",
      "ROLE_ROLLUP_1 128\n",
      "ROLE_ROLLUP_2 177\n",
      "ROLE_DEPTNAME 449\n",
      "ROLE_TITLE 343\n",
      "ROLE_FAMILY_DESC 2358\n",
      "ROLE_FAMILY 67\n",
      "ROLE_CODE 343\n"
     ]
    }
   ],
   "source": [
    "# число значений у признаков\n",
    "for col_name in df.columns:\n",
    "    print(col_name, len(df[col_name].unique()))"
   ]
  },
  {
   "cell_type": "code",
   "execution_count": 5,
   "metadata": {},
   "outputs": [],
   "source": [
    "X = df.drop(['ACTION'], axis=1)\n",
    "y = df['ACTION']\n",
    "X_train, X_test, y_train, y_test = train_test_split(X, y, random_state=42, test_size=0.8)"
   ]
  },
  {
   "cell_type": "markdown",
   "metadata": {},
   "source": [
    "# Baseline\n",
    "\n",
    "Сразу проверим как ведет себя kNN на неподготовленных данных и без тюнинга. Зафиксируйте `n_neighbors=5`, `p=2`. \n",
    "\n",
    "- создайте экземпляр `KNeighborsClassifier` с указанными параметрами, обучите его методов `fit` и предскажите значения `predict` для треничровчных данных `X_test`.\n",
    "- постройте отчет классификации (classification_report)\n",
    "- постройте confusion matrix и нарисуйте heatmap\n",
    "\n",
    "Обратите внимание на confusion matrix. Какой вывод вы можете сделать из неё? Вспомните лекцию и значение ошибок 1 и 2 рода."
   ]
  },
  {
   "cell_type": "code",
   "execution_count": 6,
   "metadata": {},
   "outputs": [
    {
     "name": "stdout",
     "output_type": "stream",
     "text": [
      "              precision    recall  f1-score   support\n",
      "\n",
      "           0       0.22      0.03      0.05      1534\n",
      "           1       0.94      0.99      0.97     24682\n",
      "\n",
      "   micro avg       0.94      0.94      0.94     26216\n",
      "   macro avg       0.58      0.51      0.51     26216\n",
      "weighted avg       0.90      0.94      0.91     26216\n",
      "\n"
     ]
    }
   ],
   "source": [
    "# p по дефолту =2\n",
    "clf = KNeighborsClassifier(n_neighbors=5)\n",
    "clf.fit(X_train, y_train)\n",
    "y_pred = clf.predict(X_test).astype('int')\n",
    "\n",
    "print(classification_report(y_test, y_pred))"
   ]
  },
  {
   "cell_type": "code",
   "execution_count": 7,
   "metadata": {},
   "outputs": [
    {
     "data": {
      "image/png": "[encoded data removed]",
      "text/plain": [
       "<Figure size 864x864 with 2 Axes>"
      ]
     },
     "metadata": {},
     "output_type": "display_data"
    }
   ],
   "source": [
    "plt.figure(figsize=(12,12)) \n",
    "_ = sns.heatmap(confusion_matrix(y_test, y_pred), cmap=plt.cm.Blues, square=True, annot=True, fmt='.4g')"
   ]
  },
  {
   "cell_type": "markdown",
   "metadata": {},
   "source": [
    "41 человек из 1534 действительно не должен получить доступ. Т.е. вероятность того, что тебе отказали КРАЙНЕ МАЛА. Как-то так. "
   ]
  },
  {
   "cell_type": "markdown",
   "metadata": {},
   "source": [
    "При фиксированном `n_neighbors=10` проверьте значение метрики на кроссвалидации на 5-фолдах для разных значений `p` из `(1,2,4,6)`. При каком значение `p` метрика достигает максимума?\n",
    "\n",
    "При кроссвалидации у вас будет получаться N разных значений метрики. Выводите среднее значение и стандартное отклонение."
   ]
  },
  {
   "cell_type": "code",
   "execution_count": 8,
   "metadata": {},
   "outputs": [
    {
     "name": "stdout",
     "output_type": "stream",
     "text": [
      "for p=1 mean: -0.05962964657245858\n",
      "for p=1 std: 0.0011535018987757493\n",
      "for p=2 mean: -0.06020941258992131\n",
      "for p=2 std: 0.0006856392417346533\n",
      "for p=4 mean: -0.059934794423408835\n",
      "for p=4 std: 0.0008774819685054348\n",
      "for p=6 mean: -0.05996528685948978\n",
      "for p=6 std: 0.0008243741057369957\n"
     ]
    }
   ],
   "source": [
    "val_p = (1,2,4,6)\n",
    "for p in val_p:\n",
    "    clf = KNeighborsClassifier(n_neighbors=10, p=p)\n",
    "    print(\"for p={} mean: {}\".format(p, cross_val_score(clf, X, y, cv=5, scoring='neg_mean_squared_error').mean()))\n",
    "    print(\"for p={} std: {}\".format(p, cross_val_score(clf, X, y, cv=5, scoring='neg_mean_squared_error').std()))"
   ]
  },
  {
   "cell_type": "markdown",
   "metadata": {},
   "source": [
    "# Счетчики\n",
    "\n",
    "Очевидно, что предсказывать лейбл объекта, используя при этом метрический алгоритм на категориальных признаках - это ОЧЕНЬ странная затея. Не удивительно что качество ужасное. Необходимо каким-то образом заменить категориальные признаки вещественными:\n",
    "\n",
    "- OneHotEncoding - это когда для каждого признака создают другие N бинарных признаков, где N - это количество категорий у категориального признака.\n",
    "- Счетчики - об это написано в статье http://blogs.technet.com/b/machinelearning/archive/2015/02/17/big-learning-made-easy-with-counts.aspx.\n",
    "\n",
    "Мы реализуем алгоритм Счетчиков. Его нет в sklearn, поэтому придется реализовать самому. \n",
    "\n",
    "Для каждого категориального признака создайте 3 других признака:\n",
    "1. Число `counts` объектов в обучающей выборке с таким же значением признака.\n",
    "2. Число `successes` объектов первого класса ($y = 1$) в обучающей выборке с таким же значением признака.\n",
    "3. Сглаженное отношение двух предыдущих величин: (`successes` + 1) / (`counts` + 2).\n",
    "\n",
    "Поскольку признаки, содержащие информацию о целевой переменной, могут привести к переобучению, может оказаться полезным сделать *фолдинг*: разбить обучающую выборку на $n$ частей, и для $i$-й части считать `counts` и `successes` по всем остальным частям. Для тестовой выборки используются счетчики, посчитанные по всей обучающей выборке. Реализуйте и такой вариант. Можно использовать $n = 3$.\n",
    "\n",
    "Обучение надо проводить только по новым признакам. Изначальные мы не используем.\n",
    "\n",
    "Подсказка - вам нужно для каждой колонки посчитать 2 аггрегации - сумму и количество. Для заменя конкретного значения посчитанным используйте функцию apply над датафреймом. Простое решение займет около 10 строк кода."
   ]
  },
  {
   "cell_type": "markdown",
   "metadata": {},
   "source": [
    "![](http://images6.fanpop.com/image/photos/38600000/taiga-iamyourenemy-38620719-282-160.gif)"
   ]
  },
  {
   "cell_type": "code",
   "execution_count": 9,
   "metadata": {},
   "outputs": [],
   "source": [
    "data = pd.DataFrame(index=df.index)\n",
    "for col_name in df.columns:\n",
    "    data['counts_{}'.format(col_name)] = df[col_name]\n",
    "    data['successes_{}'.format(col_name)] = df[col_name]\n",
    "    for item in df[col_name].unique():\n",
    "        data.loc[data['counts_{}'.format(col_name)] == item, 'counts_{}'.format(col_name)] = \\\n",
    "            df[df[col_name] == item].shape[0]\n",
    "        data.loc[data['successes_{}'.format(col_name)] == item, 'successes_{}'.format(col_name)] = \\\n",
    "            df[(df[col_name] == item) & (df['ACTION'] == 1)].shape[0]\n",
    "    data['smoothed_ratio_{}'.format(col_name)] = \\\n",
    "        (data['counts_{}'.format(col_name)] + 1)/(data['successes_{}'.format(col_name)] + 2)"
   ]
  },
  {
   "cell_type": "code",
   "execution_count": 10,
   "metadata": {},
   "outputs": [],
   "source": [
    "data['ACTION'] = df['ACTION']"
   ]
  },
  {
   "cell_type": "code",
   "execution_count": 11,
   "metadata": {},
   "outputs": [
    {
     "data": {
      "text/html": [
       "<div>\n",
       "<style scoped>\n",
       "    .dataframe tbody tr th:only-of-type {\n",
       "        vertical-align: middle;\n",
       "    }\n",
       "\n",
       "    .dataframe tbody tr th {\n",
       "        vertical-align: top;\n",
       "    }\n",
       "\n",
       "    .dataframe thead th {\n",
       "        text-align: right;\n",
       "    }\n",
       "</style>\n",
       "<table border=\"1\" class=\"dataframe\">\n",
       "  <thead>\n",
       "    <tr style=\"text-align: right;\">\n",
       "      <th></th>\n",
       "      <th>counts_ACTION</th>\n",
       "      <th>successes_ACTION</th>\n",
       "      <th>smoothed_ratio_ACTION</th>\n",
       "      <th>counts_RESOURCE</th>\n",
       "      <th>successes_RESOURCE</th>\n",
       "      <th>smoothed_ratio_RESOURCE</th>\n",
       "      <th>counts_MGR_ID</th>\n",
       "      <th>successes_MGR_ID</th>\n",
       "      <th>smoothed_ratio_MGR_ID</th>\n",
       "      <th>counts_ROLE_ROLLUP_1</th>\n",
       "      <th>...</th>\n",
       "      <th>counts_ROLE_FAMILY_DESC</th>\n",
       "      <th>successes_ROLE_FAMILY_DESC</th>\n",
       "      <th>smoothed_ratio_ROLE_FAMILY_DESC</th>\n",
       "      <th>counts_ROLE_FAMILY</th>\n",
       "      <th>successes_ROLE_FAMILY</th>\n",
       "      <th>smoothed_ratio_ROLE_FAMILY</th>\n",
       "      <th>counts_ROLE_CODE</th>\n",
       "      <th>successes_ROLE_CODE</th>\n",
       "      <th>smoothed_ratio_ROLE_CODE</th>\n",
       "      <th>ACTION</th>\n",
       "    </tr>\n",
       "  </thead>\n",
       "  <tbody>\n",
       "    <tr>\n",
       "      <th>0</th>\n",
       "      <td>30872</td>\n",
       "      <td>30872</td>\n",
       "      <td>0.999968</td>\n",
       "      <td>3</td>\n",
       "      <td>3</td>\n",
       "      <td>0.800000</td>\n",
       "      <td>5</td>\n",
       "      <td>5</td>\n",
       "      <td>0.857143</td>\n",
       "      <td>21407</td>\n",
       "      <td>...</td>\n",
       "      <td>6896</td>\n",
       "      <td>6437</td>\n",
       "      <td>1.071129</td>\n",
       "      <td>10980</td>\n",
       "      <td>10347</td>\n",
       "      <td>1.061069</td>\n",
       "      <td>3583</td>\n",
       "      <td>3467</td>\n",
       "      <td>1.033151</td>\n",
       "      <td>1</td>\n",
       "    </tr>\n",
       "    <tr>\n",
       "      <th>1</th>\n",
       "      <td>30872</td>\n",
       "      <td>30872</td>\n",
       "      <td>0.999968</td>\n",
       "      <td>30</td>\n",
       "      <td>29</td>\n",
       "      <td>1.000000</td>\n",
       "      <td>10</td>\n",
       "      <td>10</td>\n",
       "      <td>0.916667</td>\n",
       "      <td>21407</td>\n",
       "      <td>...</td>\n",
       "      <td>12</td>\n",
       "      <td>12</td>\n",
       "      <td>0.928571</td>\n",
       "      <td>1287</td>\n",
       "      <td>1220</td>\n",
       "      <td>1.054010</td>\n",
       "      <td>81</td>\n",
       "      <td>78</td>\n",
       "      <td>1.025000</td>\n",
       "      <td>1</td>\n",
       "    </tr>\n",
       "    <tr>\n",
       "      <th>2</th>\n",
       "      <td>30872</td>\n",
       "      <td>30872</td>\n",
       "      <td>0.999968</td>\n",
       "      <td>2</td>\n",
       "      <td>2</td>\n",
       "      <td>0.750000</td>\n",
       "      <td>3</td>\n",
       "      <td>3</td>\n",
       "      <td>0.800000</td>\n",
       "      <td>184</td>\n",
       "      <td>...</td>\n",
       "      <td>33</td>\n",
       "      <td>31</td>\n",
       "      <td>1.030303</td>\n",
       "      <td>2636</td>\n",
       "      <td>2393</td>\n",
       "      <td>1.101044</td>\n",
       "      <td>1256</td>\n",
       "      <td>1117</td>\n",
       "      <td>1.123324</td>\n",
       "      <td>1</td>\n",
       "    </tr>\n",
       "    <tr>\n",
       "      <th>3</th>\n",
       "      <td>30872</td>\n",
       "      <td>30872</td>\n",
       "      <td>0.999968</td>\n",
       "      <td>1</td>\n",
       "      <td>1</td>\n",
       "      <td>0.666667</td>\n",
       "      <td>62</td>\n",
       "      <td>62</td>\n",
       "      <td>0.984375</td>\n",
       "      <td>21407</td>\n",
       "      <td>...</td>\n",
       "      <td>1244</td>\n",
       "      <td>1189</td>\n",
       "      <td>1.045340</td>\n",
       "      <td>10980</td>\n",
       "      <td>10347</td>\n",
       "      <td>1.061069</td>\n",
       "      <td>4649</td>\n",
       "      <td>4279</td>\n",
       "      <td>1.086195</td>\n",
       "      <td>1</td>\n",
       "    </tr>\n",
       "    <tr>\n",
       "      <th>4</th>\n",
       "      <td>30872</td>\n",
       "      <td>30872</td>\n",
       "      <td>0.999968</td>\n",
       "      <td>8</td>\n",
       "      <td>8</td>\n",
       "      <td>0.900000</td>\n",
       "      <td>9</td>\n",
       "      <td>9</td>\n",
       "      <td>0.909091</td>\n",
       "      <td>276</td>\n",
       "      <td>...</td>\n",
       "      <td>19</td>\n",
       "      <td>18</td>\n",
       "      <td>1.000000</td>\n",
       "      <td>362</td>\n",
       "      <td>303</td>\n",
       "      <td>1.190164</td>\n",
       "      <td>75</td>\n",
       "      <td>65</td>\n",
       "      <td>1.134328</td>\n",
       "      <td>1</td>\n",
       "    </tr>\n",
       "  </tbody>\n",
       "</table>\n",
       "<p>5 rows × 31 columns</p>\n",
       "</div>"
      ],
      "text/plain": [
       "   counts_ACTION  successes_ACTION  smoothed_ratio_ACTION  counts_RESOURCE  \\\n",
       "0          30872             30872               0.999968                3   \n",
       "1          30872             30872               0.999968               30   \n",
       "2          30872             30872               0.999968                2   \n",
       "3          30872             30872               0.999968                1   \n",
       "4          30872             30872               0.999968                8   \n",
       "\n",
       "   successes_RESOURCE  smoothed_ratio_RESOURCE  counts_MGR_ID  \\\n",
       "0                   3                 0.800000              5   \n",
       "1                  29                 1.000000             10   \n",
       "2                   2                 0.750000              3   \n",
       "3                   1                 0.666667             62   \n",
       "4                   8                 0.900000              9   \n",
       "\n",
       "   successes_MGR_ID  smoothed_ratio_MGR_ID  counts_ROLE_ROLLUP_1   ...    \\\n",
       "0                 5               0.857143                 21407   ...     \n",
       "1                10               0.916667                 21407   ...     \n",
       "2                 3               0.800000                   184   ...     \n",
       "3                62               0.984375                 21407   ...     \n",
       "4                 9               0.909091                   276   ...     \n",
       "\n",
       "   counts_ROLE_FAMILY_DESC  successes_ROLE_FAMILY_DESC  \\\n",
       "0                     6896                        6437   \n",
       "1                       12                          12   \n",
       "2                       33                          31   \n",
       "3                     1244                        1189   \n",
       "4                       19                          18   \n",
       "\n",
       "   smoothed_ratio_ROLE_FAMILY_DESC  counts_ROLE_FAMILY  successes_ROLE_FAMILY  \\\n",
       "0                         1.071129               10980                  10347   \n",
       "1                         0.928571                1287                   1220   \n",
       "2                         1.030303                2636                   2393   \n",
       "3                         1.045340               10980                  10347   \n",
       "4                         1.000000                 362                    303   \n",
       "\n",
       "   smoothed_ratio_ROLE_FAMILY  counts_ROLE_CODE  successes_ROLE_CODE  \\\n",
       "0                    1.061069              3583                 3467   \n",
       "1                    1.054010                81                   78   \n",
       "2                    1.101044              1256                 1117   \n",
       "3                    1.061069              4649                 4279   \n",
       "4                    1.190164                75                   65   \n",
       "\n",
       "   smoothed_ratio_ROLE_CODE  ACTION  \n",
       "0                  1.033151       1  \n",
       "1                  1.025000       1  \n",
       "2                  1.123324       1  \n",
       "3                  1.086195       1  \n",
       "4                  1.134328       1  \n",
       "\n",
       "[5 rows x 31 columns]"
      ]
     },
     "execution_count": 11,
     "metadata": {},
     "output_type": "execute_result"
    }
   ],
   "source": [
    "data.head()"
   ]
  },
  {
   "cell_type": "markdown",
   "metadata": {},
   "source": [
    "Проверьте какое качество теперь получается на кроссвалидации для новых данных."
   ]
  },
  {
   "cell_type": "code",
   "execution_count": 12,
   "metadata": {},
   "outputs": [
    {
     "name": "stdout",
     "output_type": "stream",
     "text": [
      "for p=1 mean: 0.0\n",
      "for p=1 std: 0.0\n",
      "for p=2 mean: 0.0\n",
      "for p=2 std: 0.0\n",
      "for p=4 mean: 0.0\n",
      "for p=4 std: 0.0\n",
      "for p=6 mean: 0.0\n",
      "for p=6 std: 0.0\n"
     ]
    }
   ],
   "source": [
    "X = data.drop(['ACTION'], axis=1)\n",
    "y = data['ACTION']\n",
    "X_train, X_test, y_train, y_test = train_test_split(X, y, random_state=42, test_size=0.8)\n",
    "\n",
    "val_p = (1,2,4,6)\n",
    "for p in val_p:\n",
    "    clf = KNeighborsClassifier(n_neighbors=10, p=p)\n",
    "    print(\"for p={} mean: {}\".format(p, cross_val_score(clf, X, y, cv=5, scoring='neg_mean_squared_error').mean()))\n",
    "    print(\"for p={} std: {}\".format(p, cross_val_score(clf, X, y, cv=5, scoring='neg_mean_squared_error').std()))"
   ]
  },
  {
   "cell_type": "markdown",
   "metadata": {},
   "source": [
    "- постройте отчет классификации (classification_report)\n",
    "- постройте confusion matrix и нарисуйте heatmap\n",
    "\n",
    "Оцените на сколько улучшилось качество."
   ]
  },
  {
   "cell_type": "code",
   "execution_count": 13,
   "metadata": {},
   "outputs": [
    {
     "name": "stdout",
     "output_type": "stream",
     "text": [
      "              precision    recall  f1-score   support\n",
      "\n",
      "           0       1.00      1.00      1.00      1534\n",
      "           1       1.00      1.00      1.00     24682\n",
      "\n",
      "   micro avg       1.00      1.00      1.00     26216\n",
      "   macro avg       1.00      1.00      1.00     26216\n",
      "weighted avg       1.00      1.00      1.00     26216\n",
      "\n"
     ]
    }
   ],
   "source": [
    "clf = KNeighborsClassifier(n_neighbors=5)\n",
    "clf.fit(X_train, y_train)\n",
    "y_pred = clf.predict(X_test).astype('int')\n",
    "\n",
    "print(classification_report(y_test, y_pred))"
   ]
  },
  {
   "cell_type": "code",
   "execution_count": 14,
   "metadata": {},
   "outputs": [
    {
     "data": {
      "image/png": "[encoded data removed]",
      "text/plain": [
       "<Figure size 864x864 with 2 Axes>"
      ]
     },
     "metadata": {},
     "output_type": "display_data"
    }
   ],
   "source": [
    "plt.figure(figsize=(12,12)) \n",
    "_ = sns.heatmap(confusion_matrix(y_test, y_pred), cmap=plt.cm.Blues, square=True, annot=True, fmt='.4g')"
   ]
  },
  {
   "cell_type": "markdown",
   "metadata": {},
   "source": [
    "Качество 100%. Это как-то странно."
   ]
  },
  {
   "cell_type": "markdown",
   "metadata": {},
   "source": [
    "# Co-co-co-combo\n",
    "\n",
    "Добавьте в исходную выборку парные признаки — то есть для каждой пары $(f_i, f_j)$, $i < j$ исходных категориальных признаков добавьте новый категориальный признак $f_{ij}$, значение которого является конкатенацией значений $f_i$ и $f_j$ (желательно через какой-нибудь специальный символ во избежание коллизий). Посчитайте счетчики для этой выборки, найдите качество метода $k$ ближайших соседей с наилучшим $k$ (с фолдингом и без)."
   ]
  },
  {
   "cell_type": "code",
   "execution_count": 34,
   "metadata": {},
   "outputs": [],
   "source": [
    "def get_concat(part_one, part_two):\n",
    "    return '{}&{}'.format(part_one, part_two)\n",
    "\n",
    "df_combo = df.copy()\n",
    "df_columns = list(df.columns)\n",
    "for j_col_name in df_columns[1:]:\n",
    "    for i_col_name in df_columns[df_columns.index(col_name)-1::-1]:\n",
    "        cn = '{}&{}'.format(j_col_name, i_col_name)\n",
    "        df_combo[cn] = df_combo.apply(lambda x: get_concat(x[j_col_name], x[i_col_name]), axis=1)"
   ]
  },
  {
   "cell_type": "code",
   "execution_count": 36,
   "metadata": {},
   "outputs": [
    {
     "data": {
      "text/plain": [
       "(32769, 91)"
      ]
     },
     "execution_count": 36,
     "metadata": {},
     "output_type": "execute_result"
    }
   ],
   "source": [
    "df_combo.shape"
   ]
  },
  {
   "cell_type": "code",
   "execution_count": 37,
   "metadata": {},
   "outputs": [],
   "source": [
    "data_combo = pd.DataFrame(index=df_combo.index)\n",
    "for col_name in df_combo.columns:\n",
    "    data_combo['counts_{}'.format(col_name)] = df_combo[col_name]\n",
    "    data_combo['successes_{}'.format(col_name)] = df_combo[col_name]\n",
    "    for item in df_combo[col_name].unique():\n",
    "        data_combo.loc[data_combo['counts_{}'.format(col_name)] == item, 'counts_{}'.format(col_name)] = \\\n",
    "            df_combo[df_combo[col_name] == item].shape[0]\n",
    "        data_combo.loc[data_combo['successes_{}'.format(col_name)] == item, 'successes_{}'.format(col_name)] = \\\n",
    "            df_combo[(df_combo[col_name] == item) & (df_combo['ACTION'] == 1)].shape[0]\n",
    "    data_combo['smoothed_ratio_{}'.format(col_name)] = \\\n",
    "        (data_combo['counts_{}'.format(col_name)] + 1)/(data_combo['successes_{}'.format(col_name)] + 2)"
   ]
  },
  {
   "cell_type": "code",
   "execution_count": 40,
   "metadata": {},
   "outputs": [],
   "source": [
    "data_combo['ACTION'] = df_combo['ACTION']"
   ]
  },
  {
   "cell_type": "code",
   "execution_count": 41,
   "metadata": {},
   "outputs": [
    {
     "name": "stdout",
     "output_type": "stream",
     "text": [
      "for p=1 mean: 0.0\n",
      "for p=1 std: 0.0\n",
      "for p=2 mean: 0.0\n",
      "for p=2 std: 0.0\n",
      "for p=4 mean: 0.0\n",
      "for p=4 std: 0.0\n",
      "for p=6 mean: 0.0\n",
      "for p=6 std: 0.0\n"
     ]
    }
   ],
   "source": [
    "X = data_combo.drop(['ACTION'], axis=1)\n",
    "y = data_combo['ACTION']\n",
    "X_train, X_test, y_train, y_test = train_test_split(X, y, random_state=42, test_size=0.8)\n",
    "\n",
    "val_p = (1,2,4,6)\n",
    "for p in val_p:\n",
    "    clf = KNeighborsClassifier(n_neighbors=5, p=p)\n",
    "    print(\"for p={} mean: {}\".format(p, cross_val_score(clf, X, y, cv=5, scoring='neg_mean_squared_error').mean()))\n",
    "    print(\"for p={} std: {}\".format(p, cross_val_score(clf, X, y, cv=5, scoring='neg_mean_squared_error').std()))"
   ]
  },
  {
   "cell_type": "code",
   "execution_count": 42,
   "metadata": {},
   "outputs": [
    {
     "name": "stdout",
     "output_type": "stream",
     "text": [
      "              precision    recall  f1-score   support\n",
      "\n",
      "           0       1.00      1.00      1.00      1534\n",
      "           1       1.00      1.00      1.00     24682\n",
      "\n",
      "   micro avg       1.00      1.00      1.00     26216\n",
      "   macro avg       1.00      1.00      1.00     26216\n",
      "weighted avg       1.00      1.00      1.00     26216\n",
      "\n"
     ]
    }
   ],
   "source": [
    "clf = KNeighborsClassifier(n_neighbors=5)\n",
    "clf.fit(X_train, y_train)\n",
    "y_pred = clf.predict(X_test).astype('int')\n",
    "\n",
    "print(classification_report(y_test, y_pred))"
   ]
  },
  {
   "cell_type": "code",
   "execution_count": 43,
   "metadata": {},
   "outputs": [
    {
     "data": {
      "image/png": "[encoded data removed]",
      "text/plain": [
       "<Figure size 864x864 with 2 Axes>"
      ]
     },
     "metadata": {},
     "output_type": "display_data"
    }
   ],
   "source": [
    "plt.figure(figsize=(12,12)) \n",
    "_ = sns.heatmap(confusion_matrix(y_test, y_pred), cmap=plt.cm.Blues, square=True, annot=True, fmt='.4g')"
   ]
  },
  {
   "cell_type": "markdown",
   "metadata": {},
   "source": [
    "- постройте отчет классификации (classification_report)\n",
    "- постройте confusion matrix и нарисуйте heatmap\n",
    "\n",
    "Оцените на сколько улучшилось качество. Не похоже ли это на переобусение?\n",
    "\n",
    "Внимание! Обучение на этом этапе может быть долгим. На i5 16GB кроссвалидация на 5 фолдах заняла 30 минут!"
   ]
  },
  {
   "cell_type": "markdown",
   "metadata": {},
   "source": [
    "Качество не улучшилось. Видимо этот этап был лишним. "
   ]
  },
  {
   "cell_type": "markdown",
   "metadata": {},
   "source": [
    "# Дополнительное задание\n",
    "\n",
    "Для тех, кто хочет поставить точку в рекомендательных системах.\n",
    "\n",
    "### Рекомендательная система и kNN\n",
    "\n",
    "В прошлый раз мы использовали kMeans, тоже метрический алгоритм, но кластеризации, для построения \"рекомендательной ситсемы\". На самом деле тогда вы строили кластеры жанров/фильмов на основе предпочтений пользователей.  \n",
    "\n",
    "Теперь попробуем kNN для рекомендаций. Мы построим модель, в которой не будет кластеров, но которая сможет выводить список наиболее похожих фильмов для заданного.\n",
    "\n",
    "Подготовка датасета похожа на то, что мы уже делали. Отличаться будет только последний пункт, когда мы запустим kNN с косинусной метрикой.\n",
    "\n",
    "Будем использовать известный нам [датасет с оценками фильмов](http://www.cs.umn.edu/GroupLens). Только в этот раз мы не будем кластеризовывать жанры, а будем рекомендовать похожие фильмы, основываясь на оценках других пользователей. То есть мы будем по факту предсказывать предпочтение нового пользователя на основе других.\n",
    "\n",
    "Для рекомендательной системы в датасете в объектами будут пользователи, а признаками - оценки фильма данным пользователем.\n",
    "\n",
    "![](https://i.imgur.com/hn3xjZl.png)\n",
    "\n",
    "Мы будем использовать метрический алгоритм для поиска ближайших соседей, тем самым рекомендовать фильмы близкие к данному."
   ]
  },
  {
   "cell_type": "code",
   "execution_count": null,
   "metadata": {},
   "outputs": [],
   "source": [
    "import pandas as pd\n",
    "import numpy as np\n",
    "from matplotlib import pyplot as plt\n",
    "import seaborn as sns\n",
    "%matplotlib inline"
   ]
  },
  {
   "cell_type": "code",
   "execution_count": null,
   "metadata": {},
   "outputs": [],
   "source": [
    "movies = pd.read_csv('../../data/imdb_movies.csv.gz', index_col='movieId')\n",
    "ratings = pd.read_csv('../../data/imdb_ratings.csv.gz')\n",
    "\n",
    "print(movies.shape)\n",
    "print(ratings.shape)"
   ]
  },
  {
   "cell_type": "code",
   "execution_count": null,
   "metadata": {},
   "outputs": [],
   "source": [
    "movies.head()"
   ]
  },
  {
   "cell_type": "code",
   "execution_count": null,
   "metadata": {},
   "outputs": [],
   "source": [
    "ratings.head()"
   ]
  },
  {
   "cell_type": "markdown",
   "metadata": {},
   "source": [
    "### 1.1 Поиск популярных фильмов (3 балла)\n",
    "\n",
    "Среди всех фильмов есть не популярные, для которых выставлена 1-2 оценки. Такого количества данных не достаточно, поэтому нужно срезать много фильмов с маленьким числом отзывов.\n",
    "\n",
    "Посчтитайте количество оценок для каждого фильма."
   ]
  },
  {
   "cell_type": "code",
   "execution_count": null,
   "metadata": {},
   "outputs": [],
   "source": []
  },
  {
   "cell_type": "markdown",
   "metadata": {},
   "source": [
    "Выведите сводную статистику по количеству оценок фильмов. (общее число фильмов, среднее количество оценок, дисперсию, квантили)"
   ]
  },
  {
   "cell_type": "code",
   "execution_count": null,
   "metadata": {},
   "outputs": [],
   "source": []
  },
  {
   "cell_type": "markdown",
   "metadata": {},
   "source": [
    "Как мы видим `75%` квантиль показывет, что `75%` фильмов имело очень мало оценок. Нам столько будет недостаточно. Посчтитайте квантили в диапазоне от `75%` до `100%` с шагом в `1%`. Выберите тот квантиль, при котором количество оценок равно 20. Напишите какой это квантиль. Напишите сколько всего фильмов останется, если отбросить все фильмы у которых рейтинг меньше этого квантиля."
   ]
  },
  {
   "cell_type": "code",
   "execution_count": null,
   "metadata": {},
   "outputs": [],
   "source": []
  },
  {
   "cell_type": "markdown",
   "metadata": {},
   "source": [
    "### 1.2 Соединяем таблицы (1 балл)\n",
    "\n",
    "Будет немного не удобно искать фильмы по их идентификаторам, нам нужны названия. Поэтому соедините две таблицы `ratings` и `movies` по `movieId` и отфильтруйте отзывы на редкие фильмы, которые мы нашли в предыдущем шаге. Выведите первые 5 элементов полученного датасета."
   ]
  },
  {
   "cell_type": "code",
   "execution_count": null,
   "metadata": {},
   "outputs": [],
   "source": []
  },
  {
   "cell_type": "markdown",
   "metadata": {},
   "source": [
    "### 1.3 Матрица Фильмы-Пользователи\n",
    "\n",
    "В нашем случае мы будем искать похожие фильмы, поэтому сделайте из датасета оценок матрицу, где в строках фильмы, в колонках пользователи, а в ячейках оценки. Пропущенные значение, то есть отсутсвие оценки, заполните 0.\n",
    "\n",
    "Для увеличения скорости выполнения алгоритма ближайших соседей примените функцию [`scipy.sparse.csc_matrix`](https://docs.scipy.org/doc/scipy/reference/generated/scipy.sparse.csr_matrix.html),  которая создаст плотное представление нашей разреженой матрицы."
   ]
  },
  {
   "cell_type": "code",
   "execution_count": null,
   "metadata": {},
   "outputs": [],
   "source": []
  },
  {
   "cell_type": "markdown",
   "metadata": {},
   "source": [
    "### 1.4 Тренировка модели рекомендаций \n",
    "\n",
    "Так как по сути у нас нет каких-то меток классов, мы будем использовать алгоритма без учителя [`sklearn.neighbors.NearestNeighbors`](http://scikit-learn.org/stable/modules/generated/sklearn.neighbors.NearestNeighbors.html). Научите его по данным нашей матрицы пользователей-фильмов и напишите **функцию**, принимающую на вход название фильма и возвращающую список из 6 рекомендованых фильмов, начиная от более похожего.\n",
    "\n",
    "Для определения \"похожести\" двух фильмов мы будем использовать косинусную меру, вместо евклидова или минковского:\n",
    "\n",
    "$$\\LARGE cos(\\overrightarrow{x},\\overrightarrow{y}) = \\frac{\\overrightarrow{x} \\cdot \\overrightarrow{y}}{||\\overrightarrow{x}|| \\times ||\\overrightarrow{y}||}$$"
   ]
  },
  {
   "cell_type": "code",
   "execution_count": null,
   "metadata": {},
   "outputs": [],
   "source": []
  },
  {
   "cell_type": "code",
   "execution_count": null,
   "metadata": {},
   "outputs": [],
   "source": [
    "def similar(name='Pulp Fiction (1994)', n=6):\n",
    "    # Тут какой-то код\n",
    "    pass"
   ]
  },
  {
   "cell_type": "markdown",
   "metadata": {},
   "source": [
    "Выведите рекомендации для фильмов:\n",
    "- `Pulp Fiction (1994)`\n",
    "- `Star Wars: Episode V - The Empire Strikes Back (1980)`\n",
    "- `Lord of the Rings: The Two Towers, The (2002)`"
   ]
  },
  {
   "cell_type": "code",
   "execution_count": null,
   "metadata": {},
   "outputs": [],
   "source": [
    "similar('Pulp Fiction (1994)')"
   ]
  },
  {
   "cell_type": "code",
   "execution_count": null,
   "metadata": {},
   "outputs": [],
   "source": [
    "similar('Star Wars: Episode V - The Empire Strikes Back (1980)')"
   ]
  },
  {
   "cell_type": "code",
   "execution_count": null,
   "metadata": {},
   "outputs": [],
   "source": [
    "similar('Lord of the Rings: The Two Towers, The (2002)')"
   ]
  },
  {
   "cell_type": "markdown",
   "metadata": {},
   "source": [
    "### 1.5 Как посчитать качество рекомендации?\n",
    "\n",
    "Как посчитать качество нашей классификации? У нас нет учителя, нет отложенной выборки. Мы просто посчитали все рейтинги и на основе них сделали предположения о похожести товаров. \n",
    "\n",
    "А как вы думаете можно проверить качество нашей рекомендательной системы? Напишите развернутый ответ своими словами."
   ]
  },
  {
   "cell_type": "markdown",
   "metadata": {},
   "source": [
    "???"
   ]
  },
  {
   "cell_type": "markdown",
   "metadata": {},
   "source": [
    "![](https://69.media.tumblr.com/06a071083b3e62cd76f31af07ecb895f/tumblr_p49r4rWXG21uxovwqo1_540.gif)"
   ]
  }
 ],
 "metadata": {
  "kernelspec": {
   "display_name": "Python 3",
   "language": "python",
   "name": "python3"
  },
  "language_info": {
   "codemirror_mode": {
    "name": "ipython",
    "version": 3
   },
   "file_extension": ".py",
   "mimetype": "text/x-python",
   "name": "python",
   "nbconvert_exporter": "python",
   "pygments_lexer": "ipython3",
   "version": "3.6.5"
  }
 },
 "nbformat": 4,
 "nbformat_minor": 2
}
