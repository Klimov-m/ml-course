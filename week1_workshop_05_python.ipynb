{
 "cells": [
  {
   "cell_type": "markdown",
   "metadata": {},
   "source": [
    "# Workshop Python 3\n",
    "\n",
    "С базовыми фичами языка можно ознакомиться в теории https://gitlab.7bits.it/isiganov/ml-course/blob/master/week1/theory/03_python.md.\n",
    "\n",
    "Для закрепления знаний, решите следующие задачи."
   ]
  },
  {
   "cell_type": "markdown",
   "metadata": {},
   "source": [
    "# Задание 1. Word Count\n",
    "\n",
    "Посчитать сколько раз каждое слово повторялось в тексте. Вывести 10 самых частых слов отсортированных по частоте. Игнорировать однобуквенные слова и пунктуацию. Слова в предложении - это наборы символов отделенные друг от друга пробельными символами (пробел, табуляция, новая строка).\n",
    "\n",
    "**Advanced**: Нарисуйте bar-plot график количества слов в предложении. (Используйте библиотеку seaborn)"
   ]
  },
  {
   "cell_type": "code",
   "execution_count": 16,
   "metadata": {},
   "outputs": [
    {
     "name": "stdout",
     "output_type": "stream",
     "text": [
      "Word: quia, value: 4\n",
      "Word: qui, value: 4\n",
      "Word: ut, value: 3\n",
      "Word: sit, value: 3\n",
      "Word: voluptatem, value: 3\n",
      "Word: et, value: 2\n",
      "Word: enim, value: 2\n",
      "Word: voluptas, value: 2\n",
      "Word: aut, value: 2\n",
      "Word: sed, value: 2\n"
     ]
    }
   ],
   "source": [
    "text = '''Sed ut perspiciatis unde omnis iste natus error sit voluptatem accusantium doloremque laudantium, \n",
    "        totam rem aperiam, eaque ipsa quae ab illo invenlitore veritatis et quasi architecto beatae vitae \n",
    "        dicta sunt explicabo. Nemo enim ipsam voluptatem quia voluptas sit aspernatur aut odit aut fugit, \n",
    "        sed quia consequuntur magni dolores eos qui ratione voluptatem sequi nesciunt. Neque porro quisquam \n",
    "        est, qui dolorem ipsum quia dolor sit amet, consectetur, adipisci velit, sed quia non numquam eius modi \n",
    "        tempora incidunt ut labore et dolore magnam aliquam quaerat voluptatem. Ut enim ad minima veniam, quis \n",
    "        nostrum exercitationem ullam corporis suscipit laboriosam, nisi ut aliquid ex ea commodi consequatur? \n",
    "        Quis autem vel eum iure reprehenderit qui in ea voluptate velit esse quam nihil molestiae consequatur, \n",
    "        vel illum qui dolorem eum fugiat quo voluptas nulla pariatur?'''\n",
    "def word_count(text):\n",
    "    little_dict = {}\n",
    "    words_set = text.split()\n",
    "    words_list = []\n",
    "    for word in words_set:\n",
    "        word.strip(',.?')\n",
    "        if word not in little_dict:\n",
    "            little_dict.update({word:1})\n",
    "        else:\n",
    "            little_dict[word] = little_dict[word] + 1\n",
    "    for word in list(little_dict.keys()):\n",
    "        words_list.append([word, little_dict[word]])\n",
    "    words_list.sort(key=lambda i: i[1], reverse = True)\n",
    "    return words_list\n",
    "    #print(\"Key: {key}, value: {value}\".format(key=word, value=little_dict[word]))\n",
    "    \n",
    "result = word_count(text)\n",
    "for item in range(10):\n",
    "    print(\"Word: {word}, value: {value}\".format(word=result[item][0], value=result[item][1]))"
   ]
  },
  {
   "cell_type": "code",
   "execution_count": 2,
   "metadata": {},
   "outputs": [
    {
     "data": {
      "application/vnd.jupyter.widget-view+json": {
       "model_id": "b650842d55054751a74f6ade34f24290",
       "version_major": 2,
       "version_minor": 0
      },
      "text/plain": [
       "Text(value='', placeholder='тут текст')"
      ]
     },
     "metadata": {},
     "output_type": "display_data"
    }
   ],
   "source": [
    "# Это магия для ввода текста, не трогайте её\n",
    "# Выполните эту ячейку и увидите поле для ввода текста. \n",
    "# Введите текст, нажмите Enter и получите ответ, который вы вычислили в функции выше\n",
    "from ipywidgets import widgets\n",
    "text = widgets.Text(placeholder=\"тут текст\")\n",
    "display(text)\n",
    "text.on_submit(word_count)"
   ]
  },
  {
   "cell_type": "markdown",
   "metadata": {},
   "source": [
    "# Задание 2. Сумма цифр числа\n",
    "\n",
    "Посчитать сумму цифр данного натурального числа. Например, `summa(1234) == 1+2+3+4 == 10`."
   ]
  },
  {
   "cell_type": "code",
   "execution_count": 1,
   "metadata": {},
   "outputs": [
    {
     "name": "stdout",
     "output_type": "stream",
     "text": [
      "10\n"
     ]
    }
   ],
   "source": [
    "n = 1234\n",
    "def summa(n):\n",
    "    sum = 0\n",
    "    n = str(n)\n",
    "    for i in n:\n",
    "        sum+=int(i)\n",
    "    return sum    \n",
    "print(summa(n))"
   ]
  },
  {
   "cell_type": "markdown",
   "metadata": {},
   "source": [
    "> Человеку свойственна итерация, рекурсия – удел богов. \\(James O. Coplien, Bell Labs\\)"
   ]
  },
  {
   "cell_type": "code",
   "execution_count": 2,
   "metadata": {},
   "outputs": [
    {
     "name": "stdout",
     "output_type": "stream",
     "text": [
      "10\n"
     ]
    }
   ],
   "source": [
    "n = 1234\n",
    "def summa_recursive(n):\n",
    "    sum = 0\n",
    "    n = str(n)\n",
    "    sum += int(n[0])\n",
    "    if len(n) > 1:\n",
    "        sum += summa_recursive(n[1:])\n",
    "        return sum\n",
    "    else:\n",
    "        return sum\n",
    "print(summa_recursive(n))"
   ]
  },
  {
   "cell_type": "markdown",
   "metadata": {},
   "source": [
    "# Задание 3 со звёздочкой. Множество\n",
    "\n",
    "## Теория\n",
    "\n",
    "Множество - это набор **различных** объектов. Это означает, что в нём нет повторяющихся объектов. `[1,2,3]` - множество, а `[1,2,2,3,1]` - не удовлетворяет определению.\n",
    "\n",
    "Множество - это абстрактная структура данных и её можно реализовать несколькими способами. Но для начала определим поведения для этой абстракции.\n",
    "\n",
    "#### Базовые операции:\n",
    "\n",
    "Этот набор поведений определяет саму абстракцию.\n",
    "\n",
    "- добавить элемент в множество\n",
    "- объединить множества\n",
    "- пересечь множества\n",
    "- проверка принадлежности элемента множеству\n",
    "\n",
    "#### Вспомогательные:\n",
    "\n",
    "Это дополнительные функции. Они просто помогают пользоваться этой абстракцией.\n",
    "\n",
    "- вычислить длину\n",
    "- итерация по множеству\n",
    "- создать множество из списка элементов\n",
    "- сконвертировать множество в список\n",
    "\n",
    "### Реализации\n",
    "\n",
    "По определению, множество предоставляет только одну услугу - хранит только разные элементы. Порядок хранить оно не обязано, доступа по индексу тоже нет. Тогда на основе чего можно построить эту абстракцию?\n",
    "\n",
    "#### Список\n",
    "\n",
    "Мы можем создать множества на основе списка и просто проверять при каждой вставке в него то, есть ли в нём уже этот элемент или нет.\n",
    "\n",
    "Преимущества:\n",
    "- легко сделать\n",
    "\n",
    "Недостатки:\n",
    "- долгий поиск принадлежности и вставки O(n)\n",
    "- очень долгое пересечение O(n^2)\n",
    "\n",
    "#### Упорядоченный список\n",
    "\n",
    "А что если хранить все элементы в списке упорядоченно? Тогда вставка будет занимать меньше времени в среднем: O(n/2). Но это тот же порядок.\n",
    "\n",
    "#### Деревья поиска\n",
    "\n",
    "Существует такая структура данных как дерево. Оно было создано специально для решения задачи поиска. В сбалансированном дереве поиск элемента имеет сложность O(log_2(n)), что очень хорошо. Сравните её с O(n):\n",
    "\n",
    "![](https://habrastorage.org/getpro/habr/post_images/195/e1f/6a1/195e1f6a1379554ca9025338301a78ed.png)\n",
    "\n",
    "__картинка взята из статьи [bigocheatsheet.com](http://bigocheatsheet.com/)__\n",
    "\n",
    "Условия бинарного дерева поиска:\n",
    "\n",
    "- Оба поддерева — левое и правое — являются двоичными деревьями поиска.\n",
    "- У всех узлов левого поддерева произвольного узла X значения ключей данных меньше, нежели значение ключа данных самого узла X.\n",
    "- У всех узлов правого поддерева произвольного узла X значения ключей данных больше либо равно, нежели значение ключа данных самого узла X.\n",
    "\n",
    "Статья на [wiki](https://ru.wikipedia.org/wiki/%D0%94%D0%B2%D0%BE%D0%B8%D1%87%D0%BD%D0%BE%D0%B5_%D0%B4%D0%B5%D1%80%D0%B5%D0%B2%D0%BE_%D0%BF%D0%BE%D0%B8%D1%81%D0%BA%D0%B0).\n",
    "\n",
    "#### Хэш таблицы\n",
    "\n",
    "Основная идея заключается в использовании некоторой хэш функции, которая возвращает некоторое число. Это число используется как индекс в массиве. Поэтому операция поиска принадлежности будет O(1). В случае коллизии хэш функции, то есть когда для разных элементов было вычислено одно и то же значение хэш функции, предусматривается некоторое специальное поведение. Например, можно по индексу хэш функции хранить не один элемент, а несколько. Если коллизий очень мало, то поиск принадлежности будет всё тот же O(1) + O(n), где n - количество элементов с одним хешем. Такой метод называется методом цепочек.\n",
    "\n",
    "Статья на [wiki](https://ru.wikipedia.org/wiki/%D0%A5%D0%B5%D1%88-%D1%82%D0%B0%D0%B1%D0%BB%D0%B8%D1%86%D0%B0)\n",
    "\n",
    "## Практика\n",
    "\n",
    "Можно сделать в функциональном, процедурном или ООП стиле.\n",
    "\n",
    "### Множество на основе хеш-таблицы\n",
    "\n",
    "Используйте массивы python как базовую структуру.\n",
    "Реализуйте какую-нибудь функцию хеширования: например, остаток от деления на N или [mur-mur](https://ru.wikipedia.org/wiki/Murmur2). Для начала, чтобы тестировать свой код, можете использовать функцию `hash`.\n",
    "\n",
    "Напишите бенчмарк(замер скорости выполнения) для базовых функций вашего множества.\n",
    "\n",
    "### Множество на основе дерева\n",
    "\n",
    "Реализуйте множество на основе бинарного дерева поиска. Если вам понадобится массив, то используйте только ваш список из предыдущей практики.\n",
    "\n",
    "Напишите бенчмарк(замер скорости выполнения) для базовых функций вашего множества.\n",
    "\n",
    "Сравните скорость работы каждой реализации множества.\n"
   ]
  },
  {
   "cell_type": "code",
   "execution_count": 5,
   "metadata": {},
   "outputs": [],
   "source": [
    "# Ваш код здесь"
   ]
  },
  {
   "cell_type": "code",
   "execution_count": 6,
   "metadata": {},
   "outputs": [],
   "source": [
    "# И здесь"
   ]
  }
 ],
 "metadata": {
  "kernelspec": {
   "display_name": "Python 3",
   "language": "python",
   "name": "python3"
  },
  "language_info": {
   "codemirror_mode": {
    "name": "ipython",
    "version": 3
   },
   "file_extension": ".py",
   "mimetype": "text/x-python",
   "name": "python",
   "nbconvert_exporter": "python",
   "pygments_lexer": "ipython3",
   "version": "3.6.5"
  }
 },
 "nbformat": 4,
 "nbformat_minor": 2
}
